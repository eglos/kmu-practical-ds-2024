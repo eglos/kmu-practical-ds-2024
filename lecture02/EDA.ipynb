{
 "cells": [
  {
   "cell_type": "code",
   "execution_count": null,
   "id": "f56b32d3-fa48-4a11-bd48-a80aadbe9ed7",
   "metadata": {
    "scrolled": true
   },
   "outputs": [],
   "source": [
    "# !pip install pandas\n",
    "# !pip install pygwalker==0.3.2\n",
    "# !pip install kaggle\n",
    "# !pip install sweetviz"
   ]
  },
  {
   "cell_type": "code",
   "execution_count": 1,
   "id": "003ff159-9925-46bc-8088-3d53a0b96ac3",
   "metadata": {},
   "outputs": [
    {
     "name": "stdout",
     "output_type": "stream",
     "text": [
      "Package                   Version\n",
      "------------------------- ---------------\n",
      "aiohttp                   3.9.3\n",
      "aiosignal                 1.3.1\n",
      "alembic                   1.13.1\n",
      "altair                    5.2.0\n",
      "annotated-types           0.6.0\n",
      "anyio                     4.3.0\n",
      "archspec                  0.2.3\n",
      "argon2-cffi               23.1.0\n",
      "argon2-cffi-bindings      21.2.0\n",
      "arrow                     1.3.0\n",
      "astor                     0.8.1\n",
      "asttokens                 2.4.1\n",
      "async-generator           1.10\n",
      "async-lru                 2.0.4\n",
      "attrs                     23.2.0\n",
      "Babel                     2.14.0\n",
      "beautifulsoup4            4.12.3\n",
      "bleach                    6.1.0\n",
      "blinker                   1.7.0\n",
      "bokeh                     3.3.4\n",
      "boltons                   23.1.1\n",
      "Bottleneck                1.3.8\n",
      "Brotli                    1.1.0\n",
      "cached-property           1.5.2\n",
      "category-encoders         2.6.3\n",
      "certifi                   2024.2.2\n",
      "certipy                   0.1.3\n",
      "cffi                      1.16.0\n",
      "charset-normalizer        3.3.2\n",
      "click                     8.1.7\n",
      "cloudpickle               3.0.0\n",
      "colorama                  0.4.6\n",
      "comm                      0.2.2\n",
      "conda                     24.1.2\n",
      "conda-libmamba-solver     24.1.0\n",
      "conda-package-handling    2.2.0\n",
      "conda_package_streaming   0.9.0\n",
      "contourpy                 1.2.0\n",
      "cryptography              42.0.5\n",
      "cycler                    0.12.1\n",
      "Cython                    3.0.9\n",
      "cytoolz                   0.12.3\n",
      "dash                      2.16.1\n",
      "dash-core-components      2.0.0\n",
      "dash-html-components      2.0.0\n",
      "dash-table                5.0.0\n",
      "dask                      2024.3.0\n",
      "dask-expr                 1.0.1\n",
      "debugpy                   1.8.1\n",
      "decorator                 5.1.1\n",
      "defusedxml                0.7.1\n",
      "deprecation               2.1.0\n",
      "dill                      0.3.8\n",
      "distributed               2024.3.0\n",
      "distro                    1.9.0\n",
      "duckdb                    0.10.1\n",
      "entrypoints               0.4\n",
      "et-xmlfile                1.1.0\n",
      "exceptiongroup            1.2.0\n",
      "executing                 2.0.1\n",
      "fastjsonschema            2.19.1\n",
      "filelock                  3.13.1\n",
      "Flask                     3.0.2\n",
      "fonttools                 4.49.0\n",
      "fqdn                      1.5.1\n",
      "frozenlist                1.4.1\n",
      "fsspec                    2024.2.0\n",
      "gitdb                     4.0.11\n",
      "GitPython                 3.1.42\n",
      "gmpy2                     2.1.2\n",
      "greenlet                  3.0.3\n",
      "h11                       0.14.0\n",
      "h2                        4.1.0\n",
      "h5py                      3.10.0\n",
      "hpack                     4.0.0\n",
      "httpcore                  1.0.4\n",
      "httpx                     0.27.0\n",
      "hyperframe                6.0.1\n",
      "idna                      3.6\n",
      "imagecodecs               2024.1.1\n",
      "imageio                   2.34.0\n",
      "imbalanced-learn          0.12.0\n",
      "importlib_metadata        7.0.2\n",
      "importlib_resources       6.3.0\n",
      "ipykernel                 6.29.3\n",
      "ipympl                    0.9.3\n",
      "ipython                   8.22.2\n",
      "ipython-genutils          0.2.0\n",
      "ipywidgets                8.1.2\n",
      "isoduration               20.11.0\n",
      "itsdangerous              2.1.2\n",
      "jedi                      0.19.1\n",
      "Jinja2                    3.1.3\n",
      "joblib                    1.3.2\n",
      "json5                     0.9.22\n",
      "jsonpatch                 1.33\n",
      "jsonpointer               2.4\n",
      "jsonschema                4.21.1\n",
      "jsonschema-specifications 2023.12.1\n",
      "jupyter_client            8.6.1\n",
      "jupyter_core              5.7.2\n",
      "jupyter-events            0.9.1\n",
      "jupyter-lsp               2.2.4\n",
      "jupyter-pluto-proxy       0.1.2\n",
      "jupyter_server            2.13.0\n",
      "jupyter-server-mathjax    0.2.6\n",
      "jupyter_server_proxy      4.1.2\n",
      "jupyter_server_terminals  0.5.3\n",
      "jupyter-telemetry         0.1.0\n",
      "jupyterhub                4.0.2\n",
      "jupyterlab                4.1.4\n",
      "jupyterlab_git            0.50.0\n",
      "jupyterlab_pygments       0.3.0\n",
      "jupyterlab_server         2.25.4\n",
      "jupyterlab_widgets        3.0.10\n",
      "kaggle                    1.6.6\n",
      "kaleido                   0.2.1\n",
      "kiwisolver                1.4.5\n",
      "lazy_loader               0.3\n",
      "libmambapy                1.5.7\n",
      "lightgbm                  4.3.0\n",
      "llvmlite                  0.42.0\n",
      "locket                    1.0.0\n",
      "lz4                       4.3.3\n",
      "Mako                      1.3.2\n",
      "mamba                     1.5.7\n",
      "MarkupSafe                2.1.5\n",
      "matplotlib                3.7.5\n",
      "matplotlib-inline         0.1.6\n",
      "menuinst                  2.0.2\n",
      "mistune                   3.0.2\n",
      "mpmath                    1.3.0\n",
      "msgpack                   1.0.7\n",
      "multidict                 6.0.5\n",
      "munkres                   1.1.4\n",
      "nbclassic                 1.0.0\n",
      "nbclient                  0.10.0\n",
      "nbconvert                 7.16.2\n",
      "nbdime                    4.0.1\n",
      "nbformat                  5.10.2\n",
      "nest_asyncio              1.6.0\n",
      "networkx                  3.2.1\n",
      "notebook                  7.1.1\n",
      "notebook_shim             0.2.4\n",
      "numba                     0.59.0\n",
      "numexpr                   2.9.0\n",
      "numpy                     1.26.4\n",
      "oauthlib                  3.2.2\n",
      "openpyxl                  3.1.2\n",
      "orjson                    3.9.15\n",
      "overrides                 7.7.0\n",
      "packaging                 24.0\n",
      "pamela                    1.1.0\n",
      "pandas                    2.1.4\n",
      "pandocfilters             1.5.0\n",
      "parso                     0.8.3\n",
      "partd                     1.4.1\n",
      "patsy                     0.5.6\n",
      "pexpect                   4.9.0\n",
      "pickleshare               0.7.5\n",
      "pillow                    10.2.0\n",
      "pip                       24.0\n",
      "pkgutil_resolve_name      1.3.10\n",
      "platformdirs              4.2.0\n",
      "plotly                    5.20.0\n",
      "plotly-resampler          0.9.2\n",
      "pluggy                    1.4.0\n",
      "pmdarima                  2.0.4\n",
      "prometheus_client         0.20.0\n",
      "prompt-toolkit            3.0.42\n",
      "protobuf                  4.25.3\n",
      "psutil                    5.9.8\n",
      "ptyprocess                0.7.0\n",
      "pure-eval                 0.2.2\n",
      "py-cpuinfo                9.0.0\n",
      "pyarrow                   15.0.1\n",
      "pyarrow-hotfix            0.6\n",
      "pycaret                   3.3.0\n",
      "pycosat                   0.6.6\n",
      "pycparser                 2.21\n",
      "pycurl                    7.45.3\n",
      "pydantic                  2.6.4\n",
      "pydantic_core             2.16.3\n",
      "Pygments                  2.17.2\n",
      "pygwalker                 0.3.2\n",
      "PyJWT                     2.8.0\n",
      "pyod                      1.1.3\n",
      "pyOpenSSL                 24.0.0\n",
      "pyparsing                 3.1.2\n",
      "PySocks                   1.7.1\n",
      "python-dateutil           2.9.0\n",
      "python-json-logger        2.0.7\n",
      "python-slugify            8.0.4\n",
      "pytz                      2024.1\n",
      "PyWavelets                1.4.1\n",
      "PyYAML                    6.0.1\n",
      "pyzmq                     25.1.2\n",
      "referencing               0.33.0\n",
      "requests                  2.31.0\n",
      "retrying                  1.3.4\n",
      "rfc3339-validator         0.1.4\n",
      "rfc3986-validator         0.1.1\n",
      "rpds-py                   0.18.0\n",
      "rpy2                      3.5.11\n",
      "ruamel.yaml               0.18.6\n",
      "ruamel.yaml.clib          0.2.8\n",
      "schemdraw                 0.15\n",
      "scikit-base               0.7.5\n",
      "scikit-image              0.22.0\n",
      "scikit-learn              1.4.1.post1\n",
      "scikit-plot               0.3.7\n",
      "scipy                     1.11.0\n",
      "seaborn                   0.13.2\n",
      "Send2Trash                1.8.2\n",
      "setuptools                69.2.0\n",
      "simpervisor               1.0.0\n",
      "simplegeneric             0.8.1\n",
      "six                       1.16.0\n",
      "sktime                    0.27.0\n",
      "smmap                     5.0.0\n",
      "sniffio                   1.3.1\n",
      "sortedcontainers          2.4.0\n",
      "soupsieve                 2.5\n",
      "SQLAlchemy                2.0.28\n",
      "stack-data                0.6.2\n",
      "statsmodels               0.14.1\n",
      "sweetviz                  2.3.1\n",
      "sympy                     1.12\n",
      "tables                    3.9.2\n",
      "tbats                     1.1.3\n",
      "tblib                     3.0.0\n",
      "tenacity                  8.2.3\n",
      "terminado                 0.18.1\n",
      "text-unidecode            1.3\n",
      "threadpoolctl             3.3.0\n",
      "tifffile                  2024.2.12\n",
      "tinycss2                  1.2.1\n",
      "tomli                     2.0.1\n",
      "toolz                     0.12.1\n",
      "torch                     2.2.1\n",
      "torchvision               0.17.1\n",
      "tornado                   6.4\n",
      "tqdm                      4.66.2\n",
      "traitlets                 5.14.2\n",
      "truststore                0.8.0\n",
      "tsdownsample              0.1.2\n",
      "types-python-dateutil     2.8.19.20240311\n",
      "typing_extensions         4.10.0\n",
      "typing-utils              0.1.0\n",
      "tzdata                    2024.1\n",
      "tzlocal                   5.2\n",
      "uri-template              1.3.0\n",
      "urllib3                   2.2.1\n",
      "wcwidth                   0.2.13\n",
      "webcolors                 1.13\n",
      "webencodings              0.5.1\n",
      "websocket-client          1.7.0\n",
      "Werkzeug                  3.0.1\n",
      "wheel                     0.42.0\n",
      "widgetsnbextension        4.0.10\n",
      "wurlitzer                 3.0.3\n",
      "xlrd                      2.0.1\n",
      "xxhash                    3.4.1\n",
      "xyzservices               2023.10.1\n",
      "yarl                      1.9.4\n",
      "yellowbrick               1.5\n",
      "zict                      3.0.0\n",
      "zipp                      3.17.0\n",
      "zstandard                 0.22.0\n"
     ]
    }
   ],
   "source": [
    "!pip list"
   ]
  },
  {
   "cell_type": "code",
   "execution_count": null,
   "id": "cd4de5dd-f377-4b25-ae19-54d9194f351c",
   "metadata": {},
   "outputs": [],
   "source": []
  },
  {
   "cell_type": "code",
   "execution_count": 1,
   "id": "09c44e65-0c1a-4747-8a9a-39b95ac56359",
   "metadata": {},
   "outputs": [],
   "source": [
    "import pandas as pd\n",
    "import pygwalker as pyg\n",
    "from zipfile import ZipFile\n",
    "import pandas as pd\n",
    "from glob import glob\n",
    "import sweetviz as sv\n"
   ]
  },
  {
   "cell_type": "markdown",
   "id": "c9087010-b44b-44aa-80d1-582c57001097",
   "metadata": {},
   "source": [
    "## 캐클 API key 설정\n",
    "* https://www.kaggle.com/settings API 발급받아 아래 ~/.kaggle/kaggle.json 파일에 저장`\n",
    "* 참고 : https://www.kaggle.com/docs/api"
   ]
  },
  {
   "cell_type": "markdown",
   "id": "c8c84a2a",
   "metadata": {},
   "source": [
    "## 캐글 데이터셋 다운로드"
   ]
  },
  {
   "cell_type": "code",
   "execution_count": 2,
   "id": "1c77cda3",
   "metadata": {},
   "outputs": [],
   "source": [
    "# 캐글 api 파일 저장\n",
    "import os\n",
    "home_folder = os.getenv('HOME')\n",
    "kaggle_config_folder = os.path.join(home_folder, '.kaggle')\n",
    "kaggle_api_file_path = os.path.join(kaggle_config_folder, 'kaggle.json')\n",
    "os.makedirs(kaggle_config_folder, exist_ok=True)\n",
    "with open(kaggle_api_file_path, 'w') as f:\n",
    "    f.write('{\"username\":\"chlee91\",\"key\":\"0156deb31e4b93eb6878c6a9fb78e3b4\"}')"
   ]
  },
  {
   "cell_type": "code",
   "execution_count": 3,
   "id": "e55721d4",
   "metadata": {},
   "outputs": [
    {
     "name": "stdout",
     "output_type": "stream",
     "text": [
      "Warning: Your Kaggle API key is readable by other users on this system! To fix this, you can run 'chmod 600 /Users/LeeChangHwan/.kaggle/kaggle.json'\n",
      "Warning: Your Kaggle API key is readable by other users on this system! To fix this, you can run 'chmod 600 /Users/LeeChangHwan/.kaggle/kaggle.json'\n"
     ]
    }
   ],
   "source": [
    "# 캐글 api 설정\n",
    "from kaggle.api.kaggle_api_extended import KaggleApi\n",
    "api = KaggleApi()\n",
    "api.authenticate()"
   ]
  },
  {
   "cell_type": "code",
   "execution_count": 4,
   "id": "ec1dc9b3",
   "metadata": {},
   "outputs": [
    {
     "name": "stdout",
     "output_type": "stream",
     "text": [
      "Warning: Looks like you're using an outdated API Version, please consider updating (server 1.6.7 / client 1.6.6)\n"
     ]
    },
    {
     "data": {
      "text/plain": [
       "[https://www.kaggle.com/competitions/udel-customer-churn-prediction,\n",
       " https://www.kaggle.com/competitions/data-mining-assignment1]"
      ]
     },
     "execution_count": 4,
     "metadata": {},
     "output_type": "execute_result"
    }
   ],
   "source": [
    "# 데이터 조회해보기\n",
    "api.competitions_list(search='customer-churn')"
   ]
  },
  {
   "cell_type": "code",
   "execution_count": 5,
   "id": "f6bac649",
   "metadata": {},
   "outputs": [],
   "source": [
    "# 데이터 다운로드\n",
    "api.dataset_download_files('blastchar/telco-customer-churn')"
   ]
  },
  {
   "cell_type": "code",
   "execution_count": 6,
   "id": "faeac675",
   "metadata": {},
   "outputs": [],
   "source": [
    "# 데이터 압축해제\n",
    "zf = ZipFile('telco-customer-churn.zip') \n",
    "zf.extractall() \n",
    "zf.close()"
   ]
  },
  {
   "cell_type": "markdown",
   "id": "c22df380",
   "metadata": {},
   "source": [
    "## 데이터 로드"
   ]
  },
  {
   "cell_type": "code",
   "execution_count": 7,
   "id": "2767c560",
   "metadata": {},
   "outputs": [],
   "source": [
    "filename = glob('*.csv')[0]\n",
    "df=pd.read_csv(filename)"
   ]
  },
  {
   "cell_type": "code",
   "execution_count": null,
   "id": "b180d426",
   "metadata": {},
   "outputs": [],
   "source": [
    "#  #   Column            Description  \n",
    "# ---  ------            --------------\n",
    "#  0   customerID        고객 ID\n",
    "#  1   gender            성별\n",
    "#  2   SeniorCitizen     고령자 여부 \n",
    "#  3   Partner           파트너 여부\n",
    "#  4   Dependents        부양 가족 여부\n",
    "#  5   tenure            고객 기간\n",
    "#  6   PhoneService      전화 서비스 여부\n",
    "#  7   MultipleLines     다중 회선 여부\n",
    "#  8   InternetService   인터넷 서비스\n",
    "#  9   OnlineSecurity    온라인 보안\n",
    "#  10  OnlineBackup      온라인 백업\n",
    "#  11  DeviceProtection  기기 보호\n",
    "#  12  TechSupport       기술 지원\n",
    "#  13  StreamingTV       스트리밍 TV\n",
    "#  14  StreamingMovies   스트리밍 영화\n",
    "#  15  Contract          계약 기간\n",
    "#  16  PaperlessBilling  종이 없는 청구\n",
    "#  17  PaymentMethod     결제 방법\n",
    "#  18  MonthlyCharges    월별 요금\n",
    "#  19  TotalCharges      총 요금\n",
    "#  20  Churn             이탈 여부"
   ]
  },
  {
   "cell_type": "code",
   "execution_count": 8,
   "id": "5922ae15",
   "metadata": {},
   "outputs": [
    {
     "data": {
      "text/html": [],
      "text/plain": [
       "<IPython.core.display.HTML object>"
      ]
     },
     "metadata": {},
     "output_type": "display_data"
    },
    {
     "data": {
      "application/vnd.jupyter.widget-view+json": {
       "model_id": "e18e3db780db4e8eb3d7810c93d23323",
       "version_major": 2,
       "version_minor": 0
      },
      "text/plain": [
       "Box(children=(HTML(value='<div id=\"ifr-pyg-0\" style=\"height: auto\">\\n    <head>\\n        <meta http-equiv=\"Con…"
      ]
     },
     "metadata": {},
     "output_type": "display_data"
    },
    {
     "data": {
      "text/html": [
       "<html>\n",
       "<style>\n",
       ".tabs{\n",
       "    position:relative;\n",
       "    height:660px;\n",
       "}\n",
       ".tab-pane{\n",
       "    display:inline-block;\n",
       "}\n",
       ".tabs input[type='radio']{\n",
       "    position:absolute;\n",
       "    clip:rect(0,0,0,0)\n",
       "}\n",
       ".tab-item{\n",
       "    display:block;\n",
       "    height:34px;\n",
       "    line-height:34px;\n",
       "    cursor:pointer;\n",
       "    padding:0 10px\n",
       "}\n",
       "\n",
       ".tabs input[type='radio']:checked+.tab-item{\n",
       "    background:#2563eb;\n",
       "    color:#fff\n",
       "}\n",
       "\n",
       ".tab-content{\n",
       "    display: none;\n",
       "    position:absolute;\n",
       "    left:0;\n",
       "    top:56px;\n",
       "    bottom:0;\n",
       "    right:0;\n",
       "}\n",
       "\n",
       ".tabs input[type='radio']:checked+.tab-item+.tab-content{\n",
       "    display: block;\n",
       "}\n",
       "</style>\n",
       "\n",
       "<body>\n",
       "    <div id=\"pygwalker-preview-0\">\n",
       "        <div class=\"tabs\">\n",
       "            \n",
       "        </div>\n",
       "    </div>\n",
       "</body>\n",
       "</html>"
      ],
      "text/plain": [
       "<IPython.core.display.HTML object>"
      ]
     },
     "metadata": {},
     "output_type": "display_data"
    }
   ],
   "source": [
    "walker = pyg.walk(df)"
   ]
  },
  {
   "cell_type": "code",
   "execution_count": 9,
   "id": "2e760d8f",
   "metadata": {},
   "outputs": [
    {
     "data": {
      "application/vnd.jupyter.widget-view+json": {
       "model_id": "805d7adb4c1842a4bc134aeeed38622d",
       "version_major": 2,
       "version_minor": 0
      },
      "text/plain": [
       "                                             |          | [  0%]   00:00 -> (? left)"
      ]
     },
     "metadata": {},
     "output_type": "display_data"
    },
    {
     "name": "stdout",
     "output_type": "stream",
     "text": [
      "Report report.html was generated! NOTEBOOK/COLAB USERS: the web browser MAY not pop up, regardless, the report IS saved in your notebook/colab files.\n",
      "ERROR: comet_ml is installed, but not configured properly (e.g. check API key setup). HTML reports will not be uploaded.\n"
     ]
    }
   ],
   "source": [
    "#EDA using Autoviz\n",
    "sweet_report = sv.analyze(df)\n",
    "\n",
    "#Saving results to HTML file\n",
    "sweet_report.show_html('report.html')"
   ]
  }
 ],
 "metadata": {
  "kernelspec": {
   "display_name": "Python 3 (ipykernel)",
   "language": "python",
   "name": "python3"
  },
  "language_info": {
   "codemirror_mode": {
    "name": "ipython",
    "version": 3
   },
   "file_extension": ".py",
   "mimetype": "text/x-python",
   "name": "python",
   "nbconvert_exporter": "python",
   "pygments_lexer": "ipython3",
   "version": "3.11.8"
  }
 },
 "nbformat": 4,
 "nbformat_minor": 5
}
